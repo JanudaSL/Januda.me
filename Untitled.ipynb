{
 "cells": [
  {
   "cell_type": "code",
   "execution_count": null,
   "id": "86e87526-efff-4795-8560-f6219b7eb4bc",
   "metadata": {},
   "outputs": [],
   "source": [
    "!pip install \\\n",
    "langchain_community \\\n",
    "langchain_pinecone \\\n",
    "langchain_openai\\ \n",
    "unstructured langchain-text-splitters\n"
   ]
  },
  {
   "cell_type": "code",
   "execution_count": null,
   "id": "09d8d6ec-10ed-49a4-b3a0-a8962ce4a45d",
   "metadata": {},
   "outputs": [],
   "source": []
  }
 ],
 "metadata": {
  "kernelspec": {
   "display_name": "Python 3 (ipykernel)",
   "language": "python",
   "name": "python3"
  },
  "language_info": {
   "codemirror_mode": {
    "name": "ipython",
    "version": 3
   },
   "file_extension": ".py",
   "mimetype": "text/x-python",
   "name": "python",
   "nbconvert_exporter": "python",
   "pygments_lexer": "ipython3",
   "version": "3.13.8"
  }
 },
 "nbformat": 4,
 "nbformat_minor": 5
}
